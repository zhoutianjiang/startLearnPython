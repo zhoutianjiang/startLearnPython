{
 "cells": [
  {
   "cell_type": "code",
   "execution_count": 2,
   "metadata": {},
   "outputs": [
    {
     "name": "stderr",
     "output_type": "stream",
     "text": [
      "C:\\ProgramData\\Anaconda3\\lib\\site-packages\\matplotlib\\contour.py:1180: UserWarning: No contour levels were found within the data range.\n",
      "  warnings.warn(\"No contour levels were found\"\n"
     ]
    },
    {
     "data": {
      "image/png": "[encoded data removed]",
      "text/plain": [
       "<matplotlib.figure.Figure at 0x20f969cfba8>"
      ]
     },
     "metadata": {},
     "output_type": "display_data"
    }
   ],
   "source": [
    "from mpl_toolkits.mplot3d import Axes3D\n",
    "from matplotlib import cm\n",
    "from matplotlib.ticker import LinearLocator, FormatStrFormatter\n",
    "import matplotlib.pyplot as plt\n",
    "import numpy as np\n",
    "import matplotlib\n",
    "\n",
    "matplotlib.rcParams['axes.unicode_minus']=False\n",
    " \n",
    "def heart_3d(x, y, z):\n",
    "    return (x**2+(9/4)*y**2+z**2-1)**3-x**2*z**3-(9/80)*y**2*z**3\n",
    "\n",
    "def plot_implicit(fn, bbox=(-1.5, 1.5)):\n",
    "    xmin, xmax, ymin, ymax, zmin, zmax = bbox * 3\n",
    "    fig = plt.figure()\n",
    "    ax = fig.add_subplot(111, projection='3d')\n",
    "    A = np.linspace(xmin, xmax, 100)\n",
    "    B = np.linspace(xmin, xmax, 40)\n",
    "    A1, A2 = np.meshgrid(A, A)\n",
    "    for z in B:\n",
    "        X, Y = A1, A2\n",
    "        Z = fn(X, Y, z)\n",
    "        cset = ax.contour(X, Y, Z+z, [z], zdir='z', colors=('r',))\n",
    "        \n",
    "    for y in B:\n",
    "        X, Z = A1, A2\n",
    "        Y = fn(X, y, Z)\n",
    "        cset = ax.contour(X, Y+y, Z, [y], zdir='y', colors=('r',))\n",
    "    \n",
    "    for x in B:\n",
    "        Y, Z = A1, A2\n",
    "        X = fn(x, Y, Z)\n",
    "        cset = ax.contour(X+x, Y, Z, [x], zdir='x', colors=('r',))\n",
    "        \n",
    "    \n",
    "    ax.set_zlim3d(zmin, zmax)\n",
    "    ax.set_ylim3d(ymin, ymax)\n",
    "    ax.set_xlim3d(xmin, xmax)\n",
    "    \n",
    "    plt.title(\"Leilei\")\n",
    "    \n",
    "    plt.axis('off')\n",
    "    plt.show()\n",
    "\n",
    "\n",
    "plot_implicit(heart_3d)"
   ]
  }
 ],
 "metadata": {
  "kernelspec": {
   "display_name": "Python 3",
   "language": "python",
   "name": "python3"
  },
  "language_info": {
   "codemirror_mode": {
    "name": "ipython",
    "version": 3
   },
   "file_extension": ".py",
   "mimetype": "text/x-python",
   "name": "python",
   "nbconvert_exporter": "python",
   "pygments_lexer": "ipython3",
   "version": "3.6.4"
  }
 },
 "nbformat": 4,
 "nbformat_minor": 2
}
