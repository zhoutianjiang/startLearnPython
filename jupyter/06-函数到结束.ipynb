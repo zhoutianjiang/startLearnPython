{
 "cells": [
  {
   "cell_type": "markdown",
   "metadata": {},
   "source": [
    "# 四类参数\n",
    "- 普通参数\n",
    "- 默认参数\n",
    "- 关键字参数\n",
    "- 收集参数\n",
    "\n",
    "## 关键字参数\n",
    "- 语法\n",
    "\n",
    "        def func(p1=v1, p2=v2,...)\n",
    "            func_body\n",
    "        \n",
    "        调用函数：\n",
    "        func(p1=value1, p2=value2,...)\n",
    "- 比较麻烦，但也有好处：\n",
    "    - 不容易混淆， 一般实参和形参只是按照位置一一对应即可，容易出错\n",
    "    - 使用关键字参数，可以不考虑参数位置"
   ]
  },
  {
   "cell_type": "code",
   "execution_count": 5,
   "metadata": {},
   "outputs": [
    {
     "name": "stdout",
     "output_type": "stream",
     "text": [
      "I am a student\n",
      "我叫jingjing，我今年18岁了，我住我家.\n",
      "I am a student\n",
      "我叫jingjing，我今年18岁了，我住我家.\n"
     ]
    }
   ],
   "source": [
    "# 关键字参数案例\n",
    "def stu(name, age, addr):\n",
    "    print(\"I am a student\")\n",
    "    print(\"我叫{0}，我今年{1}岁了，我住{2}.\".format(name, age, addr))\n",
    "\n",
    "n = \"jingjing\"\n",
    "a = 18\n",
    "addr = \"我家\"\n",
    "\n",
    "# 普通参数，只按照位置传递，容易出错\n",
    "stu(n, a, addr)\n",
    "\n",
    "\n",
    "def stu_key(name=\"No name\", age=0, addr=\"No addr\"):\n",
    "    print(\"I am a student\")\n",
    "    print(\"我叫{0}，我今年{1}岁了，我住{2}.\".format(name, age, addr))\n",
    "    \n",
    "n = \"jingjing\"\n",
    "a = 18\n",
    "addr = \"我家\"\n",
    "\n",
    "stu_key(age=a, name=n, addr=addr)"
   ]
  },
  {
   "cell_type": "markdown",
   "metadata": {},
   "source": [
    "## 收集参数\n",
    "- 把没有位置，不能和定义时的参数位置相对应的参数，放入一个特定的数据结构中\n",
    "- 语法\n",
    "    \n",
    "        def func(*args):\n",
    "            func_body\n",
    "            按照list使用方法访问args得到传入的参数\n",
    "        \n",
    "        调用：\n",
    "        func(p1, p2, p3, ...)\n",
    "- 参数名args不是必须这么写，但是，我们推荐直接用args，约定俗成\n",
    "- 参数名args前需要有星号\n",
    "- 收集参数可以和其他参数并存"
   ]
  },
  {
   "cell_type": "code",
   "execution_count": 8,
   "metadata": {},
   "outputs": [
    {
     "name": "stdout",
     "output_type": "stream",
     "text": [
      "Hello 大家好，自我介绍一下，简单说两句：\n",
      "<class 'tuple'>\n",
      "liuying\n",
      "18\n",
      "北京\n",
      "wangxiaoying\n",
      "single\n",
      "Hello 大家好，自我介绍一下，简单说两句：\n",
      "<class 'tuple'>\n",
      "周大\n"
     ]
    }
   ],
   "source": [
    "# 收集参数代码\n",
    "# 函数模拟一个学生进行自我介绍，但具体内容不清楚\n",
    "def stu( *args):\n",
    "    print(\"Hello 大家好，自我介绍一下，简单说两句：\")\n",
    "    # type函数作用是检测变量的类型\n",
    "    print(type(args))\n",
    "    for item in args:\n",
    "        print(item)\n",
    "    \n",
    "stu(\"liuying\", 18, \"北京\", \"wangxiaoying\", \"single\")\n",
    "\n",
    "stu(\"周大\")\n"
   ]
  },
  {
   "cell_type": "code",
   "execution_count": 11,
   "metadata": {},
   "outputs": [
    {
     "name": "stdout",
     "output_type": "stream",
     "text": [
      "Hello 大家好，自我介绍一下，简单说两句：\n",
      "<class 'tuple'>\n"
     ]
    }
   ],
   "source": [
    "# 收集参数案例\n",
    "# 说明收集参数可以不带任何实参调用，此时收集参数为空tuple\n",
    "stu()"
   ]
  },
  {
   "cell_type": "code",
   "execution_count": 13,
   "metadata": {},
   "outputs": [],
   "source": [
    "# 如果使用关键字参数格式调用，会出现问题\n",
    "#stu(name='sss')"
   ]
  },
  {
   "cell_type": "markdown",
   "metadata": {},
   "source": [
    "### 收集参数之关键字收集参数\n",
    "- 把关键字参数按字典格式存入收集参数\n",
    "- 语法：\n",
    "\n",
    "        def func( **kwargs):\n",
    "            func_body\n",
    "        \n",
    "        # 调用：\n",
    "        func(p1=v1, p2=v2, p3=v3, ...)\n",
    "- kwargs一般约定俗成\n",
    "- 调用的时候，把多余的关键字参数放入kwargs\n",
    "- 访问kwargs需要按字典格式访问"
   ]
  },
  {
   "cell_type": "code",
   "execution_count": 2,
   "metadata": {},
   "outputs": [
    {
     "name": "stdout",
     "output_type": "stream",
     "text": [
      "Hello 大家好，我先自我介绍一下：\n",
      "<class 'dict'>\n",
      "name --- liuying\n",
      "age --- 19\n",
      "addr --- beijing\n",
      "lover --- jingjing\n",
      "word --- teacher\n",
      "**************************************************\n",
      "Hello 大家好，我先自我介绍一下：\n",
      "<class 'dict'>\n",
      "name --- zhou\n"
     ]
    }
   ],
   "source": [
    "# 收集参数案例\n",
    "# 自我介绍\n",
    "# 调用的时候需要使用关键字参数调用\n",
    "def stu( **kwargs):\n",
    "    # 在函数体内对于kwargs的使用不带星号\n",
    "    print(\"Hello 大家好，我先自我介绍一下：\")\n",
    "    print(type(kwargs))\n",
    "    \n",
    "    for k, v in kwargs.items():\n",
    "        print(k, \"---\", v)\n",
    "\n",
    "stu(name=\"liuying\", age=19, addr=\"beijing\", lover=\"jingjing\", word=\"teacher\")\n",
    "\n",
    "print(\"*\" * 50)\n",
    "\n",
    "stu(name=\"zhou\")"
   ]
  },
  {
   "cell_type": "code",
   "execution_count": 3,
   "metadata": {},
   "outputs": [
    {
     "name": "stdout",
     "output_type": "stream",
     "text": [
      "Hello 大家好，我先自我介绍一下：\n",
      "<class 'dict'>\n"
     ]
    }
   ],
   "source": [
    "# 收集参数可以为空案例\n",
    "stu()"
   ]
  },
  {
   "cell_type": "markdown",
   "metadata": {},
   "source": [
    "### 收集参数混合调用的顺序问题\n",
    "- 收集参数，关键字参数，普通参数可以混合使用\n",
    "- 使用规则就是，普通参数和关键字参数优先\n",
    "- 定义的时候一般找普通函数，关键字参数，收集参数tuple，收集参数dict"
   ]
  },
  {
   "cell_type": "code",
   "execution_count": 18,
   "metadata": {},
   "outputs": [
    {
     "name": "stdout",
     "output_type": "stream",
     "text": [
      "Hello，大家好\n",
      "我叫 ying，我今年 19 大了。\n",
      "我没有爱好。\n",
      "********************\n",
      "******************************\n",
      "Hello，大家好\n",
      "我叫 ying，我今年 19 大了。\n",
      "我的爱好是游泳\n",
      "********************\n",
      "王\n",
      "******************************\n",
      "hobby2 ------ 游戏\n"
     ]
    }
   ],
   "source": [
    "# 收集参数混合调用案例\n",
    "# stu模拟一个学生的自我介绍\n",
    "def stu(name, age, *args, hobby=\"没有\", **kwargs):\n",
    "    print(\"Hello，大家好\")\n",
    "    print(\"我叫 {0}，我今年 {1} 大了。\".format(name, age))\n",
    "    if hobby == \"没有\":\n",
    "        print(\"我没有爱好。\")\n",
    "    else:\n",
    "        print(\"我的爱好是{0}\".format(hobby))\n",
    "    \n",
    "    print(\"*\" * 20)\n",
    "    \n",
    "    for i in args:\n",
    "        print(i)\n",
    "    \n",
    "    print(\"*\" * 30)\n",
    "    \n",
    "    for k,v in kwargs.items():\n",
    "        print(k, \"------\", v)\n",
    "\n",
    "# 开始调用函数\n",
    "name = \"ying\"\n",
    "age = 19\n",
    "\n",
    "stu(name, age)\n",
    "\n",
    "stu(name, age,  \"王\", hobby=\"游泳\",hobby2=\"游戏\")"
   ]
  },
  {
   "cell_type": "markdown",
   "metadata": {},
   "source": [
    "### 收集参数的解包问题\n",
    "- 把参数放入list或者字典中，直接把list/dict中的值放入收集参数中\n",
    "- 语法：参看案例"
   ]
  },
  {
   "cell_type": "code",
   "execution_count": 22,
   "metadata": {},
   "outputs": [
    {
     "name": "stdout",
     "output_type": "stream",
     "text": [
      "哈哈哈啊哈\n",
      "<class 'str'>\n",
      "0\n",
      "ying\n",
      "<class 'str'>\n",
      "1\n",
      "liu\n",
      "<class 'int'>\n",
      "2\n",
      "19\n",
      "<class 'int'>\n",
      "3\n",
      "200\n",
      "哈哈哈啊哈\n",
      "<class 'list'>\n",
      "0\n",
      "['liuliu', 20, 230]\n",
      "哈哈哈啊哈\n",
      "<class 'str'>\n",
      "0\n",
      "liuliu\n",
      "<class 'int'>\n",
      "1\n",
      "20\n",
      "<class 'int'>\n",
      "2\n",
      "230\n"
     ]
    }
   ],
   "source": [
    "# 收集参数的解包问题\n",
    "\n",
    "def stu(*args):\n",
    "    print(\"哈哈哈啊哈\")\n",
    "    # n 用来表示循环刺鼠\n",
    "    # 主要用来调试\n",
    "    n = 0\n",
    "    for i in args:\n",
    "        print(type(i))\n",
    "        print(n)\n",
    "        n += 1\n",
    "        print(i)\n",
    "        \n",
    "\n",
    "stu(\"ying\", \"liu\", 19, 200)\n",
    "\n",
    "l = list()\n",
    "l.append(\"liuliu\")\n",
    "l.append(20)\n",
    "l.append(230)\n",
    "\n",
    "stu(l)\n",
    "# 此时，args 的表示形式是字典内一个 list 类型的元素，即 arg = ['liuliu', 20, 230]\n",
    "# 很显然跟我们最初的想法违背\n",
    "\n",
    "# 此时的调用，我们就需要解包符号，即调用需要一个星号\n",
    "\n",
    "stu(*l)"
   ]
  },
  {
   "cell_type": "markdown",
   "metadata": {},
   "source": [
    "### 同理，dict 类型收集参数一样可以解包，但是\n",
    "- 对dict 类型进行解包\n",
    "- 需要用两个星号进行解包"
   ]
  },
  {
   "cell_type": "markdown",
   "metadata": {},
   "source": [
    "# 返回值\n",
    "- 函数和过程的区别\n",
    "    - 有无返回值\n",
    "- 需要用 return 显示返回的内容\n",
    "- 如果没有返回，则默认返回 None\n",
    "- 推荐写法，无论有无返回值，最后都要以 return 结束"
   ]
  },
  {
   "cell_type": "code",
   "execution_count": 27,
   "metadata": {},
   "outputs": [
    {
     "name": "stdout",
     "output_type": "stream",
     "text": [
      "有返回值呀\n",
      "1\n",
      "没有返回值呀\n",
      "None\n"
     ]
    }
   ],
   "source": [
    "# 返回值示例\n",
    "\n",
    "def func_1():\n",
    "    print(\"有返回值呀\")\n",
    "    return 1\n",
    "\n",
    "def func_2():\n",
    "    print(\"没有返回值呀\")\n",
    "    \n",
    "f1 = func_1()\n",
    "print(f1)\n",
    "\n",
    "f2 = func_2()\n",
    "print(f2)"
   ]
  },
  {
   "cell_type": "markdown",
   "metadata": {},
   "source": [
    "# 函数文档\n",
    "- 函数的文档的作用是对当前函数提供使用相关的参考信息\n",
    "- 文档的写法：\n",
    "    - 在函数内部开始的第一行使用三引号字符串定义符\n",
    "    - 一般具有特定格式\n",
    "    - 参看案例\n",
    "- 文档查看\n",
    "    - 使用 help 函数，形如 help(func)\n",
    "    - 使用 __doc__，参看案例 "
   ]
  },
  {
   "cell_type": "code",
   "execution_count": 37,
   "metadata": {},
   "outputs": [],
   "source": [
    "# 文档案例\n",
    "# 函数 stu 是模拟一个学生的自我介绍\n",
    "def stu(name, age, *args):\n",
    "    '''\n",
    "    这是第一行\n",
    "    这是第二行\n",
    "    文档\n",
    "    '''\n",
    "    print(\"This is hanshu stu\")"
   ]
  },
  {
   "cell_type": "code",
   "execution_count": 38,
   "metadata": {},
   "outputs": [
    {
     "name": "stdout",
     "output_type": "stream",
     "text": [
      "Help on function stu in module __main__:\n",
      "\n",
      "stu(name, age, *args)\n",
      "    这是第一行\n",
      "    这是第二行\n",
      "    文档\n",
      "\n"
     ]
    },
    {
     "data": {
      "text/plain": [
       "'\\n    这是第一行\\n    这是第二行\\n    文档\\n    '"
      ]
     },
     "execution_count": 38,
     "metadata": {},
     "output_type": "execute_result"
    }
   ],
   "source": [
    "# 查看函数文档\n",
    "help(stu)\n",
    "stu.__doc__"
   ]
  }
 ],
 "metadata": {
  "kernelspec": {
   "display_name": "Python 3",
   "language": "python",
   "name": "python3"
  },
  "language_info": {
   "codemirror_mode": {
    "name": "ipython",
    "version": 3
   },
   "file_extension": ".py",
   "mimetype": "text/x-python",
   "name": "python",
   "nbconvert_exporter": "python",
   "pygments_lexer": "ipython3",
   "version": "3.6.4"
  }
 },
 "nbformat": 4,
 "nbformat_minor": 2
}
